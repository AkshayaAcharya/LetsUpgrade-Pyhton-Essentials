{
 "cells": [
  {
   "cell_type": "markdown",
   "metadata": {},
   "source": [
    "## Assignment\n",
    "\n",
    "Print the first ArmStrong number in the range of 1042000 to 702648265 and exit the loop as soon\n",
    "as you encounter the first armstrong number.\n",
    "\n",
    "A positive integer is called an Armstrong number of order n if\n",
    "\n",
    "abcd... = a<sup>n</sup> + b<sup>n</sup> + c<sup>n</sup> + d<sup>n</sup> + ...\n",
    "\n",
    "Use while loop\n",
    "\n",
    "OutputThe first armstrong number is -----------"
   ]
  },
  {
   "cell_type": "code",
   "execution_count": 18,
   "metadata": {},
   "outputs": [
    {
     "name": "stdout",
     "output_type": "stream",
     "text": [
      "The first armstrong number is 1741725\n"
     ]
    }
   ],
   "source": [
    "# Program to check Armstrong numbers in a certain interval\n",
    "\n",
    "lower = 1042000\n",
    "upper = 702648265\n",
    "\n",
    "for num in range(lower, upper + 1):\n",
    "\n",
    "   # number of digits\n",
    "   numberOfDigits = len(str(num))\n",
    "    \n",
    "   # initialize sum\n",
    "   sum = 0\n",
    "   temp = num\n",
    "   while temp > 0:\n",
    "       digit = temp % 10\n",
    "       sum = sum + digit ** numberOfDigits\n",
    "       temp = temp // 10   #//: divide with integral result (discard remainder)\n",
    "\n",
    "   if num == sum:\n",
    "       print('The first armstrong number is', num)\n",
    "       break"
   ]
  }
 ],
 "metadata": {
  "kernelspec": {
   "display_name": "Python 3",
   "language": "python",
   "name": "python3"
  },
  "language_info": {
   "codemirror_mode": {
    "name": "ipython",
    "version": 3
   },
   "file_extension": ".py",
   "mimetype": "text/x-python",
   "name": "python",
   "nbconvert_exporter": "python",
   "pygments_lexer": "ipython3",
   "version": "3.8.3"
  }
 },
 "nbformat": 4,
 "nbformat_minor": 4
}

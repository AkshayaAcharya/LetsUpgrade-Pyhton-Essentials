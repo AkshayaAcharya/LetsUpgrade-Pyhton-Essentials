{
 "cells": [
  {
   "cell_type": "markdown",
   "metadata": {},
   "source": [
    "# Day6 - Assignment"
   ]
  },
  {
   "cell_type": "markdown",
   "metadata": {},
   "source": [
    "### Question 1\n",
    "For this challenge,\n",
    "create a bank account class that has two attributes\n",
    "    1. ownerName\n",
    "    2. Balance\n",
    "    \n",
    "And two methods\n",
    "    1. deposit\n",
    "    2. withdraw\n",
    "    \n",
    "As an added requirement,withdrawals may not exceed the available balance.\n",
    "\n",
    "Instantiate your class,make several deposits and withdrawals,and test to make sure the account\n",
    "cant be overdrawn."
   ]
  },
  {
   "cell_type": "code",
   "execution_count": 60,
   "metadata": {},
   "outputs": [],
   "source": [
    "class bankAccount():\n",
    "    def __init__(self, ownerName, Balance):\n",
    "        self.ownerName = ownerName\n",
    "        self.Balance = Balance\n",
    "        \n",
    "    def getDetails(self):\n",
    "        print('Account Owner: ',self.ownerName)\n",
    "        print('Available Balance: ',self.Balance)\n",
    "        \n",
    "    def deposit(self, amount):\n",
    "        self.Balance += amount\n",
    "        print('Available balance = ', self.Balance)\n",
    "        \n",
    "    def withdraw(self, amount):\n",
    "        if self.Balance < amount:\n",
    "            print('Available balance = ', self.Balance)\n",
    "            print('Withdraw Amount Exceeds Balance Amount')\n",
    "        else:\n",
    "            self.Balance -= amount\n",
    "            print('Available balance = ', self.Balance)"
   ]
  },
  {
   "cell_type": "code",
   "execution_count": 61,
   "metadata": {},
   "outputs": [],
   "source": [
    "account = bankAccount('Aparna', 50000)"
   ]
  },
  {
   "cell_type": "code",
   "execution_count": 62,
   "metadata": {},
   "outputs": [
    {
     "name": "stdout",
     "output_type": "stream",
     "text": [
      "Account Owner:  Aparna\n",
      "Available Balance:  50000\n"
     ]
    }
   ],
   "source": [
    "account.getDetails()"
   ]
  },
  {
   "cell_type": "code",
   "execution_count": 63,
   "metadata": {},
   "outputs": [
    {
     "name": "stdout",
     "output_type": "stream",
     "text": [
      "Available balance =  75000\n"
     ]
    }
   ],
   "source": [
    "account.deposit(25000)"
   ]
  },
  {
   "cell_type": "code",
   "execution_count": 64,
   "metadata": {},
   "outputs": [
    {
     "name": "stdout",
     "output_type": "stream",
     "text": [
      "Available balance =  30000\n"
     ]
    }
   ],
   "source": [
    "account.withdraw(45000)"
   ]
  },
  {
   "cell_type": "code",
   "execution_count": 65,
   "metadata": {},
   "outputs": [
    {
     "name": "stdout",
     "output_type": "stream",
     "text": [
      "Available balance =  30000\n",
      "Withdraw Amount Exceeds Balance Amount\n"
     ]
    }
   ],
   "source": [
    "account.withdraw(40000)"
   ]
  },
  {
   "cell_type": "code",
   "execution_count": 66,
   "metadata": {},
   "outputs": [
    {
     "name": "stdout",
     "output_type": "stream",
     "text": [
      "Available balance =  75000\n"
     ]
    }
   ],
   "source": [
    "account.deposit(45000)"
   ]
  },
  {
   "cell_type": "code",
   "execution_count": 67,
   "metadata": {},
   "outputs": [
    {
     "name": "stdout",
     "output_type": "stream",
     "text": [
      "Available balance =  75000\n",
      "Withdraw Amount Exceeds Balance Amount\n"
     ]
    }
   ],
   "source": [
    "account.withdraw(80000)"
   ]
  },
  {
   "cell_type": "markdown",
   "metadata": {},
   "source": [
    "### Question 2\n",
    "For this challenge,create a cone class that has two attributes:\n",
    "    \n",
    "    *R=Radius\n",
    "    *h=Height\n",
    "    \n",
    "And two methods:\n",
    "    \n",
    "    *Volume = Π * r**2 * (h/3)\n",
    "    *Surface area : base : Π * r2 , side : Π * r * √(r2 + h2)\n",
    "                \n",
    "Make only one class with functions,as in where required import Math"
   ]
  },
  {
   "cell_type": "code",
   "execution_count": 110,
   "metadata": {},
   "outputs": [],
   "source": [
    "import math\n",
    "class cone():\n",
    "    def __init__(self, r, h):\n",
    "        self.r = r\n",
    "        self.h = h\n",
    "        \n",
    "    def getDetails(self):\n",
    "        print('Radius: ',self.r)\n",
    "        print('Height: ',self.h)\n",
    "        \n",
    "    def Volume(self):\n",
    "        return 'Volume is: ',(math.pi * self.r ** 2 * (self.h/3))\n",
    "    \n",
    "    def surfaceArea(self):\n",
    "        base = math.pi * self.r ** 2\n",
    "        side = math.pi * self.r * (self.r + math.sqrt(self.h ** 2 + self.r ** 2))\n",
    "        return  'SurfaceArea: Base: ',base,'side: ',side\n",
    "        \n",
    "        "
   ]
  },
  {
   "cell_type": "code",
   "execution_count": 111,
   "metadata": {},
   "outputs": [],
   "source": [
    "conee = cone(5, 6)"
   ]
  },
  {
   "cell_type": "code",
   "execution_count": 112,
   "metadata": {},
   "outputs": [
    {
     "name": "stdout",
     "output_type": "stream",
     "text": [
      "Radius:  5\n",
      "Height:  6\n"
     ]
    }
   ],
   "source": [
    "conee.getDetails()"
   ]
  },
  {
   "cell_type": "code",
   "execution_count": 113,
   "metadata": {},
   "outputs": [
    {
     "data": {
      "text/plain": [
       "5"
      ]
     },
     "execution_count": 113,
     "metadata": {},
     "output_type": "execute_result"
    }
   ],
   "source": [
    "conee.r"
   ]
  },
  {
   "cell_type": "code",
   "execution_count": 114,
   "metadata": {},
   "outputs": [
    {
     "data": {
      "text/plain": [
       "6"
      ]
     },
     "execution_count": 114,
     "metadata": {},
     "output_type": "execute_result"
    }
   ],
   "source": [
    "conee.h"
   ]
  },
  {
   "cell_type": "code",
   "execution_count": 115,
   "metadata": {},
   "outputs": [
    {
     "data": {
      "text/plain": [
       "('Volume is: ', 157.07963267948966)"
      ]
     },
     "execution_count": 115,
     "metadata": {},
     "output_type": "execute_result"
    }
   ],
   "source": [
    "conee.Volume()"
   ]
  },
  {
   "cell_type": "code",
   "execution_count": 116,
   "metadata": {},
   "outputs": [
    {
     "data": {
      "text/plain": [
       "('SurfaceArea: Base: ', 78.53981633974483, 'side: ', 201.22293136239685)"
      ]
     },
     "execution_count": 116,
     "metadata": {},
     "output_type": "execute_result"
    }
   ],
   "source": [
    "conee.surfaceArea()"
   ]
  }
 ],
 "metadata": {
  "kernelspec": {
   "display_name": "Python 3",
   "language": "python",
   "name": "python3"
  },
  "language_info": {
   "codemirror_mode": {
    "name": "ipython",
    "version": 3
   },
   "file_extension": ".py",
   "mimetype": "text/x-python",
   "name": "python",
   "nbconvert_exporter": "python",
   "pygments_lexer": "ipython3",
   "version": "3.8.3"
  }
 },
 "nbformat": 4,
 "nbformat_minor": 4
}
